{
 "cells": [
  {
   "cell_type": "code",
   "execution_count": 1,
   "metadata": {
    "ExecuteTime": {
     "end_time": "2021-04-22T16:27:11.099458Z",
     "start_time": "2021-04-22T16:27:10.931271Z"
    }
   },
   "outputs": [],
   "source": [
    "import math as m\n",
    "import numpy as np"
   ]
  },
  {
   "cell_type": "markdown",
   "metadata": {},
   "source": [
    "# Exercise 1"
   ]
  },
  {
   "cell_type": "markdown",
   "metadata": {
    "ExecuteTime": {
     "end_time": "2021-04-22T15:50:02.810125Z",
     "start_time": "2021-04-22T15:50:02.796794Z"
    }
   },
   "source": [
    "###### exercise 1a"
   ]
  },
  {
   "cell_type": "markdown",
   "metadata": {},
   "source": [
    "$V(S)=AS$,   $V_{s}(S)=A$  \n",
    "$V_{ss}(S)=0$,     $V_{t}(S)=0$  \n",
    "\n",
    "$dV(S,t)=[V_{t}(S,t)+\\mu SV_{s}(S)+\\frac{\\sigma^{2}}{2}S^{2}V_{ss}(S)]dt+\\sigma SV_{s}(S)dB(t)$  \n",
    "Substituting the various values above  \n",
    "\n",
    "$d(AS)=[0+\\mu S(A)+0]dt+\\sigma SAdB(t)$\n",
    "\n",
    "$d(AS)=\\mu SAdt + \\sigma SAdB(t)$\n",
    "\n",
    "$d(AS)=AS[\\mu dt+\\sigma dB(t)]$"
   ]
  },
  {
   "cell_type": "markdown",
   "metadata": {},
   "source": [
    "##### exercise 1b"
   ]
  },
  {
   "cell_type": "markdown",
   "metadata": {},
   "source": [
    "$V(S,t)=S^{n}+t^{2}$  \n",
    "$V_{s}(S)=nS^{n-1}$,   $V_{ss}(S)=n(n-1)S^{n-2}$  \n",
    "$V_{t}(S)=2t$   \n",
    "$d(V(S,t))=d(S^{n}+t^{n})=[2t+\\mu nSS^{n-1} +\\frac{\\sigma^{2}}{2}S^{2}(n(n-1))S^{n-2}]dt+[\\sigma S(nS^{n-1})]dB(t)$ \n",
    "\n",
    "$d(S^{n}+t^{n})=[2t+\\mu nS^{n}+\\frac{\\sigma^{2}}{2}(n^{2}-n)S^{n}]dt+(\\sigma nS^{n})dB(t)$  \n",
    "\n",
    "$d(S^{n}+t^{n})=2tdt+nS^{n}[(\\mu +\\frac{\\sigma^{2}}{2}(n-1))dt + \\sigma dB(t)]$"
   ]
  },
  {
   "cell_type": "markdown",
   "metadata": {},
   "source": [
    "# Exercise 2"
   ]
  },
  {
   "cell_type": "code",
   "execution_count": 3,
   "metadata": {
    "ExecuteTime": {
     "end_time": "2021-04-22T21:12:47.787070Z",
     "start_time": "2021-04-22T21:12:47.714345Z"
    }
   },
   "outputs": [
    {
     "name": "stdout",
     "output_type": "stream",
     "text": [
      "The values for d_1 and d_2  (-0.4797021889257608, -0.5547021889257607)\n"
     ]
    }
   ],
   "source": [
    "def Black_Scholes(S,E,r,sigma,T,t):\n",
    "    d_1=(m.log(S/E)+(r+sigma**2/2)*(T-t))/(sigma*(m.sqrt(T-t)))\n",
    "    d_2=(m.log(S/E)+(r-sigma**2/2)*(T-t))/(sigma*(m.sqrt(T-t)))\n",
    "    \n",
    "    return d_1,d_2\n",
    "print('The values for d_1 and d_2 ',Black_Scholes(100,105,0.04,0.15,0.25,0))"
   ]
  },
  {
   "cell_type": "markdown",
   "metadata": {
    "ExecuteTime": {
     "end_time": "2021-04-22T21:55:24.338411Z",
     "start_time": "2021-04-22T21:55:24.325442Z"
    }
   },
   "source": [
    "##### Exercise 2b"
   ]
  },
  {
   "cell_type": "markdown",
   "metadata": {},
   "source": [
    "$C(S,t)=SN(d_{1})-Ee^{-r(T-t)}N(d_{2})$  \n",
    "$d_{1}=\\frac{log(\\frac{S}{E})+(r+\\frac{\\sigma^{2}}{2})(T-t)}{\\sigma \\sqrt{T-t}}$ \n",
    "\n",
    "$d_{1}=\\frac{log(\\frac{100}{105})+(0.04+\\frac{0.15^{2}}{2})(0.25-0)}{0.04\\sqrt{0.25-0}}$  \n",
    "\n",
    "$d_{1}=\\frac{-0.00837}{0.02}$\n",
    "\n",
    "$d_{1}=-0.4188399535$\n",
    "\n",
    "$d_{2}=\\frac{log(\\frac{S}{E})+(r-\\frac{\\sigma^{2}}{2})(T-t)}{\\sigma \\sqrt{T-t}}$  \n",
    "\n",
    "$d_{2}=\\frac{log(\\frac{100}{105})+(0.04-\\frac{0.15^{2}}{2})(0.25-0)}{0.04\\sqrt{0.25-0}}$\n",
    "\n",
    "$d_{2}=\\frac{-0.01400}{0.02}$ \n",
    "\n",
    "$d_{2}=-0.700899535$\n",
    "\n",
    "Using the standard normal table,  \n",
    "$N(d_{1})=0.34090$  \n",
    "$N(d_{2})=0.24196$  \n",
    "\n",
    "$V=C(S,t)=100(0.34090)-(105)e^{-0.04(0.25-0)}(0.24196)$  \n",
    "\n",
    "$C(S,t)=8.936699$"
   ]
  },
  {
   "cell_type": "code",
   "execution_count": null,
   "metadata": {},
   "outputs": [],
   "source": []
  },
  {
   "cell_type": "markdown",
   "metadata": {},
   "source": [
    "# Exercise 3"
   ]
  },
  {
   "cell_type": "markdown",
   "metadata": {
    "ExecuteTime": {
     "end_time": "2021-04-22T11:19:55.004873Z",
     "start_time": "2021-04-22T11:19:54.997231Z"
    }
   },
   "source": [
    "$N(x)=\\frac{1}{\\sqrt(2\\pi)} \\int_{-\\infty}^{x}e^{-\\frac{1}{2}y^{2}}dy$ and $erf(x)=\\frac{2}{\\sqrt{\\pi}}\\int_{0}^{x}e^{-y^{2}}dy$  \n",
    "\n",
    "$N(x)=\\frac{1}{\\sqrt(2\\pi)}(\\int_{-\\infty}^{0}e^{-\\frac{1}{2}y^{2}}dy+\\frac{1}{\\sqrt2\\pi)}\\int_{0}^{x}e^{-\\frac{1}{2}y^{2}}dy)$\n",
    "\n",
    "$\\frac{1}{\\sqrt(2\\pi)}\\int_{-\\infty}^{0}e^{-\\frac{1}{2}y^{2}}dy=\\frac{1}{\\sqrt(2\\pi)}\\int_{-\\infty}^{0}e^{-(\\frac{y^{2}}{\\sqrt{2}})}dy$ \n",
    "\n",
    "let $u=\\frac{y}{\\sqrt{2}}$,$du=\\frac{1}{\\sqrt{2}}dy$ and so $du=\\sqrt{2}dy$  \n",
    "\n",
    "This implies that,$ \\sqrt{2}\\int_{-\\infty}^{0}e^{-u^{2}}du=\\frac{\\sqrt{2\\pi}}{2}$  \n",
    "\n",
    "$=\\frac{1}{\\sqrt{2\\pi}}[\\frac{\\sqrt{2\\pi}}{2}+\\int_{0}^{x}e^{-\\frac{1}{2}y^{2}}dy]$  \n",
    "\n",
    "but we have $\\frac{1}{2}erf(x)=\\frac{1}{\\sqrt{2\\pi}}\\int_{0}^{x}e^{-\\frac{1}{2}y^{2}}dy$  \n",
    "\n",
    "$N(x)=[\\frac{1}{2}+\\frac{1}{2}erf(x)]=\\frac{1}{2}[1+erf(x)]$  \n",
    "\n",
    "Thus N(x) in terms of erf is $\\frac{1}{2}[1+erf(x)]$\n"
   ]
  },
  {
   "cell_type": "markdown",
   "metadata": {
    "ExecuteTime": {
     "end_time": "2021-04-22T10:53:34.031603Z",
     "start_time": "2021-04-22T10:53:34.023016Z"
    }
   },
   "source": [
    "# Exercise 4"
   ]
  },
  {
   "cell_type": "code",
   "execution_count": 14,
   "metadata": {
    "ExecuteTime": {
     "end_time": "2021-04-22T22:31:29.161725Z",
     "start_time": "2021-04-22T22:31:29.148001Z"
    }
   },
   "outputs": [
    {
     "name": "stdout",
     "output_type": "stream",
     "text": [
      "The call option using the Black Scholes is 1.471805247463287\n"
     ]
    }
   ],
   "source": [
    "def call_option(S,E,r,sigma,T,t):\n",
    "    d_1=(m.log(S/E)+(r+sigma**2/2)*(T-t))/(sigma*(m.sqrt(T-t)))\n",
    "    d_2=(m.log(S/E)+(r-sigma**2/2)*(T-t))/(sigma*(m.sqrt(T-t)))\n",
    "    N_1=1/2*(1+m.erf(d_1/m.sqrt(2)))\n",
    "    N_2=1/2*(1+m.erf(d_2/m.sqrt(2)))\n",
    "    V=(S*N_1)-(E*m.exp(-r*(T-t)))*N_2\n",
    "    return V\n",
    "print('The call option using the Black Scholes is',call_option(100,105,0.04,0.15,0.25,0))"
   ]
  },
  {
   "cell_type": "code",
   "execution_count": 12,
   "metadata": {
    "ExecuteTime": {
     "end_time": "2021-04-22T22:28:54.029064Z",
     "start_time": "2021-04-22T22:28:54.019908Z"
    }
   },
   "outputs": [
    {
     "name": "stdout",
     "output_type": "stream",
     "text": [
      "For other values of the parameters given results,  (1.2650308370227807, 0.5174333707856166, 0.3240917685809084)\n"
     ]
    }
   ],
   "source": [
    "print('For other values of the parameters given results, ',call_option(8,10,0.12,0.5,1,0))"
   ]
  },
  {
   "cell_type": "code",
   "execution_count": null,
   "metadata": {},
   "outputs": [],
   "source": []
  }
 ],
 "metadata": {
  "kernelspec": {
   "display_name": "Python 3",
   "language": "python",
   "name": "python3"
  },
  "language_info": {
   "codemirror_mode": {
    "name": "ipython",
    "version": 3
   },
   "file_extension": ".py",
   "mimetype": "text/x-python",
   "name": "python",
   "nbconvert_exporter": "python",
   "pygments_lexer": "ipython3",
   "version": "3.7.0"
  },
  "toc": {
   "base_numbering": 1,
   "nav_menu": {},
   "number_sections": true,
   "sideBar": true,
   "skip_h1_title": false,
   "title_cell": "Table of Contents",
   "title_sidebar": "Contents",
   "toc_cell": false,
   "toc_position": {},
   "toc_section_display": true,
   "toc_window_display": false
  }
 },
 "nbformat": 4,
 "nbformat_minor": 2
}
